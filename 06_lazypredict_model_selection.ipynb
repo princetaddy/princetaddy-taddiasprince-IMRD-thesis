{
 "cells": [
  {
   "cell_type": "code",
   "execution_count": null,
   "metadata": {},
   "outputs": [],
   "source": [
    "import pandas as pd\n",
    "from sklearn.model_selection import train_test_split\n",
    "from lazypredict.Supervised import LazyClassifier\n",
    "\n",
    "DATAFILE = \"normalised_with_binary_cai.csv\"\n",
    "TARGET = \"Cod_Azienda\", \"Anno\"\n",
    "df = pd.read_csv(DATAFILE).dropna(subset=[TARGET])\n",
    "X = df.drop(columns=[TARGET,\"Cod_Azienda\",\"Anno\"], errors=\"ignore\"); y = df[TARGET]\n",
    "X_train, X_test, y_train, y_test = train_test_split(X, y, stratify=y, test_size=0.3, random_state=42)\n",
    "clf = LazyClassifier(verbose=0, ignore_warnings=True, predictions=True)\n",
    "models, preds = clf.fit(X_train, X_test, y_train, y_test)\n",
    "models.to_csv(\"outputs/tables/lazypredict_benchmark.csv\", index=False)\n",
    "models.head()\n"
   ],
   "id": "4231dfffdac09c92"
  }
 ],
 "metadata": {
  "kernelspec": {
   "display_name": "Python 3",
   "language": "python",
   "name": "python3"
  },
  "language_info": {
   "name": "python",
   "version": "3.x"
  }
 },
 "nbformat": 4,
 "nbformat_minor": 5
}
